{
 "cells": [
  {
   "cell_type": "markdown",
   "metadata": {},
   "source": [
    "### Importando bibliotecas e lendo os dados"
   ]
  },
  {
   "cell_type": "code",
   "execution_count": 64,
   "metadata": {},
   "outputs": [],
   "source": [
    "import pandas as pd\n",
    "import numpy as np\n",
    "import matplotlib.pyplot as plt"
   ]
  },
  {
   "cell_type": "code",
   "execution_count": 65,
   "metadata": {},
   "outputs": [
    {
     "data": {
      "text/html": [
       "<div>\n",
       "<style scoped>\n",
       "    .dataframe tbody tr th:only-of-type {\n",
       "        vertical-align: middle;\n",
       "    }\n",
       "\n",
       "    .dataframe tbody tr th {\n",
       "        vertical-align: top;\n",
       "    }\n",
       "\n",
       "    .dataframe thead th {\n",
       "        text-align: right;\n",
       "    }\n",
       "</style>\n",
       "<table border=\"1\" class=\"dataframe\">\n",
       "  <thead>\n",
       "    <tr style=\"text-align: right;\">\n",
       "      <th></th>\n",
       "      <th>submission_id</th>\n",
       "      <th>age</th>\n",
       "      <th>cups</th>\n",
       "      <th>where_drink</th>\n",
       "      <th>brew</th>\n",
       "      <th>brew_other</th>\n",
       "      <th>purchase</th>\n",
       "      <th>purchase_other</th>\n",
       "      <th>favorite</th>\n",
       "      <th>favorite_specify</th>\n",
       "      <th>...</th>\n",
       "      <th>spent_equipment</th>\n",
       "      <th>value_equipment</th>\n",
       "      <th>gender</th>\n",
       "      <th>gender_specify</th>\n",
       "      <th>education_level</th>\n",
       "      <th>ethnicity_race</th>\n",
       "      <th>ethnicity_race_specify</th>\n",
       "      <th>employment_status</th>\n",
       "      <th>number_children</th>\n",
       "      <th>political_affiliation</th>\n",
       "    </tr>\n",
       "  </thead>\n",
       "  <tbody>\n",
       "    <tr>\n",
       "      <th>0</th>\n",
       "      <td>gMR29l</td>\n",
       "      <td>18-24 years old</td>\n",
       "      <td>NaN</td>\n",
       "      <td>NaN</td>\n",
       "      <td>NaN</td>\n",
       "      <td>NaN</td>\n",
       "      <td>NaN</td>\n",
       "      <td>NaN</td>\n",
       "      <td>Regular drip coffee</td>\n",
       "      <td>NaN</td>\n",
       "      <td>...</td>\n",
       "      <td>NaN</td>\n",
       "      <td>NaN</td>\n",
       "      <td>NaN</td>\n",
       "      <td>NaN</td>\n",
       "      <td>NaN</td>\n",
       "      <td>NaN</td>\n",
       "      <td>NaN</td>\n",
       "      <td>NaN</td>\n",
       "      <td>NaN</td>\n",
       "      <td>NaN</td>\n",
       "    </tr>\n",
       "    <tr>\n",
       "      <th>1</th>\n",
       "      <td>BkPN0e</td>\n",
       "      <td>25-34 years old</td>\n",
       "      <td>NaN</td>\n",
       "      <td>NaN</td>\n",
       "      <td>Pod/capsule machine (e.g. Keurig/Nespresso)</td>\n",
       "      <td>NaN</td>\n",
       "      <td>NaN</td>\n",
       "      <td>NaN</td>\n",
       "      <td>Iced coffee</td>\n",
       "      <td>NaN</td>\n",
       "      <td>...</td>\n",
       "      <td>NaN</td>\n",
       "      <td>NaN</td>\n",
       "      <td>NaN</td>\n",
       "      <td>NaN</td>\n",
       "      <td>NaN</td>\n",
       "      <td>NaN</td>\n",
       "      <td>NaN</td>\n",
       "      <td>NaN</td>\n",
       "      <td>NaN</td>\n",
       "      <td>NaN</td>\n",
       "    </tr>\n",
       "    <tr>\n",
       "      <th>2</th>\n",
       "      <td>W5G8jj</td>\n",
       "      <td>25-34 years old</td>\n",
       "      <td>NaN</td>\n",
       "      <td>NaN</td>\n",
       "      <td>Bean-to-cup machine</td>\n",
       "      <td>NaN</td>\n",
       "      <td>NaN</td>\n",
       "      <td>NaN</td>\n",
       "      <td>Regular drip coffee</td>\n",
       "      <td>NaN</td>\n",
       "      <td>...</td>\n",
       "      <td>NaN</td>\n",
       "      <td>NaN</td>\n",
       "      <td>NaN</td>\n",
       "      <td>NaN</td>\n",
       "      <td>NaN</td>\n",
       "      <td>NaN</td>\n",
       "      <td>NaN</td>\n",
       "      <td>NaN</td>\n",
       "      <td>NaN</td>\n",
       "      <td>NaN</td>\n",
       "    </tr>\n",
       "    <tr>\n",
       "      <th>3</th>\n",
       "      <td>4xWgGr</td>\n",
       "      <td>35-44 years old</td>\n",
       "      <td>NaN</td>\n",
       "      <td>NaN</td>\n",
       "      <td>Coffee brewing machine (e.g. Mr. Coffee)</td>\n",
       "      <td>NaN</td>\n",
       "      <td>NaN</td>\n",
       "      <td>NaN</td>\n",
       "      <td>Iced coffee</td>\n",
       "      <td>NaN</td>\n",
       "      <td>...</td>\n",
       "      <td>NaN</td>\n",
       "      <td>NaN</td>\n",
       "      <td>NaN</td>\n",
       "      <td>NaN</td>\n",
       "      <td>NaN</td>\n",
       "      <td>NaN</td>\n",
       "      <td>NaN</td>\n",
       "      <td>NaN</td>\n",
       "      <td>NaN</td>\n",
       "      <td>NaN</td>\n",
       "    </tr>\n",
       "    <tr>\n",
       "      <th>4</th>\n",
       "      <td>QD27Q8</td>\n",
       "      <td>25-34 years old</td>\n",
       "      <td>NaN</td>\n",
       "      <td>NaN</td>\n",
       "      <td>Pour over</td>\n",
       "      <td>NaN</td>\n",
       "      <td>NaN</td>\n",
       "      <td>NaN</td>\n",
       "      <td>Latte</td>\n",
       "      <td>NaN</td>\n",
       "      <td>...</td>\n",
       "      <td>NaN</td>\n",
       "      <td>NaN</td>\n",
       "      <td>NaN</td>\n",
       "      <td>NaN</td>\n",
       "      <td>NaN</td>\n",
       "      <td>NaN</td>\n",
       "      <td>NaN</td>\n",
       "      <td>NaN</td>\n",
       "      <td>NaN</td>\n",
       "      <td>NaN</td>\n",
       "    </tr>\n",
       "    <tr>\n",
       "      <th>...</th>\n",
       "      <td>...</td>\n",
       "      <td>...</td>\n",
       "      <td>...</td>\n",
       "      <td>...</td>\n",
       "      <td>...</td>\n",
       "      <td>...</td>\n",
       "      <td>...</td>\n",
       "      <td>...</td>\n",
       "      <td>...</td>\n",
       "      <td>...</td>\n",
       "      <td>...</td>\n",
       "      <td>...</td>\n",
       "      <td>...</td>\n",
       "      <td>...</td>\n",
       "      <td>...</td>\n",
       "      <td>...</td>\n",
       "      <td>...</td>\n",
       "      <td>...</td>\n",
       "      <td>...</td>\n",
       "      <td>...</td>\n",
       "      <td>...</td>\n",
       "    </tr>\n",
       "    <tr>\n",
       "      <th>4037</th>\n",
       "      <td>PA44VP</td>\n",
       "      <td>&gt;65 years old</td>\n",
       "      <td>2</td>\n",
       "      <td>At home</td>\n",
       "      <td>Coffee brewing machine (e.g. Mr. Coffee)</td>\n",
       "      <td>NaN</td>\n",
       "      <td>NaN</td>\n",
       "      <td>NaN</td>\n",
       "      <td>Regular drip coffee</td>\n",
       "      <td>NaN</td>\n",
       "      <td>...</td>\n",
       "      <td>Less than $20</td>\n",
       "      <td>Yes</td>\n",
       "      <td>Female</td>\n",
       "      <td>NaN</td>\n",
       "      <td>Master's degree</td>\n",
       "      <td>White/Caucasian</td>\n",
       "      <td>NaN</td>\n",
       "      <td>Retired</td>\n",
       "      <td>2</td>\n",
       "      <td>Democrat</td>\n",
       "    </tr>\n",
       "    <tr>\n",
       "      <th>4038</th>\n",
       "      <td>vNgpPD</td>\n",
       "      <td>&gt;65 years old</td>\n",
       "      <td>2</td>\n",
       "      <td>At home</td>\n",
       "      <td>Coffee brewing machine (e.g. Mr. Coffee)</td>\n",
       "      <td>NaN</td>\n",
       "      <td>NaN</td>\n",
       "      <td>NaN</td>\n",
       "      <td>Regular drip coffee</td>\n",
       "      <td>NaN</td>\n",
       "      <td>...</td>\n",
       "      <td>Less than $20</td>\n",
       "      <td>Yes</td>\n",
       "      <td>Male</td>\n",
       "      <td>NaN</td>\n",
       "      <td>Bachelor's degree</td>\n",
       "      <td>White/Caucasian</td>\n",
       "      <td>NaN</td>\n",
       "      <td>Retired</td>\n",
       "      <td>2</td>\n",
       "      <td>Republican</td>\n",
       "    </tr>\n",
       "    <tr>\n",
       "      <th>4039</th>\n",
       "      <td>g5ggRM</td>\n",
       "      <td>18-24 years old</td>\n",
       "      <td>1</td>\n",
       "      <td>At a cafe, At home, On the go, At the office</td>\n",
       "      <td>Espresso, Pod/capsule machine (e.g. Keurig/Nes...</td>\n",
       "      <td>Aeropress</td>\n",
       "      <td>National chain (e.g. Starbucks, Dunkin), Drive...</td>\n",
       "      <td>NaN</td>\n",
       "      <td>Latte</td>\n",
       "      <td>NaN</td>\n",
       "      <td>...</td>\n",
       "      <td>$300-$500</td>\n",
       "      <td>Yes</td>\n",
       "      <td>Male</td>\n",
       "      <td>NaN</td>\n",
       "      <td>Some college or associate's degree</td>\n",
       "      <td>White/Caucasian</td>\n",
       "      <td>NaN</td>\n",
       "      <td>Employed full-time</td>\n",
       "      <td>NaN</td>\n",
       "      <td>Democrat</td>\n",
       "    </tr>\n",
       "    <tr>\n",
       "      <th>4040</th>\n",
       "      <td>rlgbDN</td>\n",
       "      <td>25-34 years old</td>\n",
       "      <td>2</td>\n",
       "      <td>At home</td>\n",
       "      <td>Pour over</td>\n",
       "      <td>NaN</td>\n",
       "      <td>NaN</td>\n",
       "      <td>NaN</td>\n",
       "      <td>Iced coffee</td>\n",
       "      <td>NaN</td>\n",
       "      <td>...</td>\n",
       "      <td>$100-$300</td>\n",
       "      <td>Yes</td>\n",
       "      <td>Male</td>\n",
       "      <td>NaN</td>\n",
       "      <td>Bachelor's degree</td>\n",
       "      <td>White/Caucasian</td>\n",
       "      <td>NaN</td>\n",
       "      <td>Unemployed</td>\n",
       "      <td>NaN</td>\n",
       "      <td>Democrat</td>\n",
       "    </tr>\n",
       "    <tr>\n",
       "      <th>4041</th>\n",
       "      <td>0EGYe9</td>\n",
       "      <td>25-34 years old</td>\n",
       "      <td>1</td>\n",
       "      <td>At home</td>\n",
       "      <td>Pour over, French press, Espresso, Other</td>\n",
       "      <td>Aeropress</td>\n",
       "      <td>NaN</td>\n",
       "      <td>NaN</td>\n",
       "      <td>Latte</td>\n",
       "      <td>NaN</td>\n",
       "      <td>...</td>\n",
       "      <td>$500-$1000</td>\n",
       "      <td>Yes</td>\n",
       "      <td>Female</td>\n",
       "      <td>NaN</td>\n",
       "      <td>Doctorate or professional degree</td>\n",
       "      <td>White/Caucasian</td>\n",
       "      <td>NaN</td>\n",
       "      <td>Employed full-time</td>\n",
       "      <td>1</td>\n",
       "      <td>Democrat</td>\n",
       "    </tr>\n",
       "  </tbody>\n",
       "</table>\n",
       "<p>4042 rows × 57 columns</p>\n",
       "</div>"
      ],
      "text/plain": [
       "     submission_id              age cups  \\\n",
       "0           gMR29l  18-24 years old  NaN   \n",
       "1           BkPN0e  25-34 years old  NaN   \n",
       "2           W5G8jj  25-34 years old  NaN   \n",
       "3           4xWgGr  35-44 years old  NaN   \n",
       "4           QD27Q8  25-34 years old  NaN   \n",
       "...            ...              ...  ...   \n",
       "4037        PA44VP    >65 years old    2   \n",
       "4038        vNgpPD    >65 years old    2   \n",
       "4039        g5ggRM  18-24 years old    1   \n",
       "4040        rlgbDN  25-34 years old    2   \n",
       "4041        0EGYe9  25-34 years old    1   \n",
       "\n",
       "                                       where_drink  \\\n",
       "0                                              NaN   \n",
       "1                                              NaN   \n",
       "2                                              NaN   \n",
       "3                                              NaN   \n",
       "4                                              NaN   \n",
       "...                                            ...   \n",
       "4037                                       At home   \n",
       "4038                                       At home   \n",
       "4039  At a cafe, At home, On the go, At the office   \n",
       "4040                                       At home   \n",
       "4041                                       At home   \n",
       "\n",
       "                                                   brew brew_other  \\\n",
       "0                                                   NaN        NaN   \n",
       "1           Pod/capsule machine (e.g. Keurig/Nespresso)        NaN   \n",
       "2                                   Bean-to-cup machine        NaN   \n",
       "3              Coffee brewing machine (e.g. Mr. Coffee)        NaN   \n",
       "4                                             Pour over        NaN   \n",
       "...                                                 ...        ...   \n",
       "4037           Coffee brewing machine (e.g. Mr. Coffee)        NaN   \n",
       "4038           Coffee brewing machine (e.g. Mr. Coffee)        NaN   \n",
       "4039  Espresso, Pod/capsule machine (e.g. Keurig/Nes...  Aeropress   \n",
       "4040                                          Pour over        NaN   \n",
       "4041           Pour over, French press, Espresso, Other  Aeropress   \n",
       "\n",
       "                                               purchase purchase_other  \\\n",
       "0                                                   NaN            NaN   \n",
       "1                                                   NaN            NaN   \n",
       "2                                                   NaN            NaN   \n",
       "3                                                   NaN            NaN   \n",
       "4                                                   NaN            NaN   \n",
       "...                                                 ...            ...   \n",
       "4037                                                NaN            NaN   \n",
       "4038                                                NaN            NaN   \n",
       "4039  National chain (e.g. Starbucks, Dunkin), Drive...            NaN   \n",
       "4040                                                NaN            NaN   \n",
       "4041                                                NaN            NaN   \n",
       "\n",
       "                 favorite favorite_specify  ... spent_equipment  \\\n",
       "0     Regular drip coffee              NaN  ...             NaN   \n",
       "1             Iced coffee              NaN  ...             NaN   \n",
       "2     Regular drip coffee              NaN  ...             NaN   \n",
       "3             Iced coffee              NaN  ...             NaN   \n",
       "4                   Latte              NaN  ...             NaN   \n",
       "...                   ...              ...  ...             ...   \n",
       "4037  Regular drip coffee              NaN  ...   Less than $20   \n",
       "4038  Regular drip coffee              NaN  ...   Less than $20   \n",
       "4039                Latte              NaN  ...       $300-$500   \n",
       "4040          Iced coffee              NaN  ...       $100-$300   \n",
       "4041                Latte              NaN  ...      $500-$1000   \n",
       "\n",
       "     value_equipment  gender gender_specify  \\\n",
       "0                NaN     NaN            NaN   \n",
       "1                NaN     NaN            NaN   \n",
       "2                NaN     NaN            NaN   \n",
       "3                NaN     NaN            NaN   \n",
       "4                NaN     NaN            NaN   \n",
       "...              ...     ...            ...   \n",
       "4037             Yes  Female            NaN   \n",
       "4038             Yes    Male            NaN   \n",
       "4039             Yes    Male            NaN   \n",
       "4040             Yes    Male            NaN   \n",
       "4041             Yes  Female            NaN   \n",
       "\n",
       "                         education_level   ethnicity_race  \\\n",
       "0                                    NaN              NaN   \n",
       "1                                    NaN              NaN   \n",
       "2                                    NaN              NaN   \n",
       "3                                    NaN              NaN   \n",
       "4                                    NaN              NaN   \n",
       "...                                  ...              ...   \n",
       "4037                     Master's degree  White/Caucasian   \n",
       "4038                   Bachelor's degree  White/Caucasian   \n",
       "4039  Some college or associate's degree  White/Caucasian   \n",
       "4040                   Bachelor's degree  White/Caucasian   \n",
       "4041    Doctorate or professional degree  White/Caucasian   \n",
       "\n",
       "     ethnicity_race_specify   employment_status  number_children  \\\n",
       "0                       NaN                 NaN              NaN   \n",
       "1                       NaN                 NaN              NaN   \n",
       "2                       NaN                 NaN              NaN   \n",
       "3                       NaN                 NaN              NaN   \n",
       "4                       NaN                 NaN              NaN   \n",
       "...                     ...                 ...              ...   \n",
       "4037                    NaN             Retired                2   \n",
       "4038                    NaN             Retired                2   \n",
       "4039                    NaN  Employed full-time              NaN   \n",
       "4040                    NaN          Unemployed              NaN   \n",
       "4041                    NaN  Employed full-time                1   \n",
       "\n",
       "      political_affiliation  \n",
       "0                       NaN  \n",
       "1                       NaN  \n",
       "2                       NaN  \n",
       "3                       NaN  \n",
       "4                       NaN  \n",
       "...                     ...  \n",
       "4037               Democrat  \n",
       "4038             Republican  \n",
       "4039               Democrat  \n",
       "4040               Democrat  \n",
       "4041               Democrat  \n",
       "\n",
       "[4042 rows x 57 columns]"
      ]
     },
     "execution_count": 65,
     "metadata": {},
     "output_type": "execute_result"
    }
   ],
   "source": [
    "data = pd.read_csv('coffee_survey.csv')\n",
    "data"
   ]
  },
  {
   "cell_type": "markdown",
   "metadata": {},
   "source": [
    "### Compreendendo os dados"
   ]
  },
  {
   "cell_type": "code",
   "execution_count": 66,
   "metadata": {},
   "outputs": [
    {
     "name": "stdout",
     "output_type": "stream",
     "text": [
      "<class 'pandas.core.frame.DataFrame'>\n",
      "RangeIndex: 4042 entries, 0 to 4041\n",
      "Data columns (total 57 columns):\n",
      " #   Column                        Non-Null Count  Dtype  \n",
      "---  ------                        --------------  -----  \n",
      " 0   submission_id                 4042 non-null   object \n",
      " 1   age                           4011 non-null   object \n",
      " 2   cups                          3949 non-null   object \n",
      " 3   where_drink                   3972 non-null   object \n",
      " 4   brew                          3657 non-null   object \n",
      " 5   brew_other                    678 non-null    object \n",
      " 6   purchase                      710 non-null    object \n",
      " 7   purchase_other                31 non-null     object \n",
      " 8   favorite                      3980 non-null   object \n",
      " 9   favorite_specify              114 non-null    object \n",
      " 10  additions                     3959 non-null   object \n",
      " 11  additions_other               48 non-null     object \n",
      " 12  dairy                         1686 non-null   object \n",
      " 13  sweetener                     512 non-null    object \n",
      " 14  style                         3958 non-null   object \n",
      " 15  strength                      3916 non-null   object \n",
      " 16  roast_level                   3940 non-null   object \n",
      " 17  caffeine                      3917 non-null   object \n",
      " 18  expertise                     3938 non-null   float64\n",
      " 19  coffee_a_bitterness           3798 non-null   float64\n",
      " 20  coffee_a_acidity              3779 non-null   float64\n",
      " 21  coffee_a_personal_preference  3789 non-null   float64\n",
      " 22  coffee_a_notes                2578 non-null   object \n",
      " 23  coffee_b_bitterness           3780 non-null   float64\n",
      " 24  coffee_b_acidity              3767 non-null   float64\n",
      " 25  coffee_b_personal_preference  3773 non-null   float64\n",
      " 26  coffee_b_notes                2454 non-null   object \n",
      " 27  coffee_c_bitterness           3764 non-null   float64\n",
      " 28  coffee_c_acidity              3751 non-null   float64\n",
      " 29  coffee_c_personal_preference  3766 non-null   float64\n",
      " 30  coffee_c_notes                2382 non-null   object \n",
      " 31  coffee_d_bitterness           3767 non-null   float64\n",
      " 32  coffee_d_acidity              3765 non-null   float64\n",
      " 33  coffee_d_personal_preference  3764 non-null   float64\n",
      " 34  coffee_d_notes                2588 non-null   object \n",
      " 35  prefer_abc                    3772 non-null   object \n",
      " 36  prefer_ad                     3761 non-null   object \n",
      " 37  prefer_overall                3770 non-null   object \n",
      " 38  wfh                           3524 non-null   object \n",
      " 39  total_spend                   3511 non-null   object \n",
      " 40  why_drink                     3568 non-null   object \n",
      " 41  why_drink_other               167 non-null    object \n",
      " 42  taste                         3563 non-null   object \n",
      " 43  know_source                   3559 non-null   object \n",
      " 44  most_paid                     3527 non-null   object \n",
      " 45  most_willing                  3510 non-null   object \n",
      " 46  value_cafe                    3500 non-null   object \n",
      " 47  spent_equipment               3506 non-null   object \n",
      " 48  value_equipment               3494 non-null   object \n",
      " 49  gender                        3523 non-null   object \n",
      " 50  gender_specify                12 non-null     object \n",
      " 51  education_level               3438 non-null   object \n",
      " 52  ethnicity_race                3418 non-null   object \n",
      " 53  ethnicity_race_specify        105 non-null    object \n",
      " 54  employment_status             3419 non-null   object \n",
      " 55  number_children               856 non-null    object \n",
      " 56  political_affiliation         3289 non-null   object \n",
      "dtypes: float64(13), object(44)\n",
      "memory usage: 1.8+ MB\n"
     ]
    }
   ],
   "source": [
    "data.info()"
   ]
  },
  {
   "cell_type": "code",
   "execution_count": 67,
   "metadata": {},
   "outputs": [
    {
     "data": {
      "text/plain": [
       "Index(['submission_id', 'age', 'cups', 'where_drink', 'brew', 'brew_other',\n",
       "       'purchase', 'purchase_other', 'favorite', 'favorite_specify',\n",
       "       'additions', 'additions_other', 'dairy', 'sweetener', 'style',\n",
       "       'strength', 'roast_level', 'caffeine', 'expertise',\n",
       "       'coffee_a_bitterness', 'coffee_a_acidity',\n",
       "       'coffee_a_personal_preference', 'coffee_a_notes', 'coffee_b_bitterness',\n",
       "       'coffee_b_acidity', 'coffee_b_personal_preference', 'coffee_b_notes',\n",
       "       'coffee_c_bitterness', 'coffee_c_acidity',\n",
       "       'coffee_c_personal_preference', 'coffee_c_notes', 'coffee_d_bitterness',\n",
       "       'coffee_d_acidity', 'coffee_d_personal_preference', 'coffee_d_notes',\n",
       "       'prefer_abc', 'prefer_ad', 'prefer_overall', 'wfh', 'total_spend',\n",
       "       'why_drink', 'why_drink_other', 'taste', 'know_source', 'most_paid',\n",
       "       'most_willing', 'value_cafe', 'spent_equipment', 'value_equipment',\n",
       "       'gender', 'gender_specify', 'education_level', 'ethnicity_race',\n",
       "       'ethnicity_race_specify', 'employment_status', 'number_children',\n",
       "       'political_affiliation'],\n",
       "      dtype='object')"
      ]
     },
     "execution_count": 67,
     "metadata": {},
     "output_type": "execute_result"
    }
   ],
   "source": [
    "data.columns"
   ]
  },
  {
   "cell_type": "code",
   "execution_count": 68,
   "metadata": {},
   "outputs": [
    {
     "data": {
      "text/html": [
       "<div>\n",
       "<style scoped>\n",
       "    .dataframe tbody tr th:only-of-type {\n",
       "        vertical-align: middle;\n",
       "    }\n",
       "\n",
       "    .dataframe tbody tr th {\n",
       "        vertical-align: top;\n",
       "    }\n",
       "\n",
       "    .dataframe thead th {\n",
       "        text-align: right;\n",
       "    }\n",
       "</style>\n",
       "<table border=\"1\" class=\"dataframe\">\n",
       "  <thead>\n",
       "    <tr style=\"text-align: right;\">\n",
       "      <th></th>\n",
       "      <th>expertise</th>\n",
       "      <th>coffee_a_bitterness</th>\n",
       "      <th>coffee_a_acidity</th>\n",
       "      <th>coffee_a_personal_preference</th>\n",
       "      <th>coffee_b_bitterness</th>\n",
       "      <th>coffee_b_acidity</th>\n",
       "      <th>coffee_b_personal_preference</th>\n",
       "      <th>coffee_c_bitterness</th>\n",
       "      <th>coffee_c_acidity</th>\n",
       "      <th>coffee_c_personal_preference</th>\n",
       "      <th>coffee_d_bitterness</th>\n",
       "      <th>coffee_d_acidity</th>\n",
       "      <th>coffee_d_personal_preference</th>\n",
       "    </tr>\n",
       "  </thead>\n",
       "  <tbody>\n",
       "    <tr>\n",
       "      <th>count</th>\n",
       "      <td>3938.000000</td>\n",
       "      <td>3798.000000</td>\n",
       "      <td>3779.000000</td>\n",
       "      <td>3789.000000</td>\n",
       "      <td>3780.000000</td>\n",
       "      <td>3767.000000</td>\n",
       "      <td>3773.000000</td>\n",
       "      <td>3764.000000</td>\n",
       "      <td>3751.000000</td>\n",
       "      <td>3766.000000</td>\n",
       "      <td>3767.000000</td>\n",
       "      <td>3765.000000</td>\n",
       "      <td>3764.000000</td>\n",
       "    </tr>\n",
       "    <tr>\n",
       "      <th>mean</th>\n",
       "      <td>5.693499</td>\n",
       "      <td>2.141127</td>\n",
       "      <td>3.634824</td>\n",
       "      <td>3.310900</td>\n",
       "      <td>3.013228</td>\n",
       "      <td>2.223786</td>\n",
       "      <td>3.068646</td>\n",
       "      <td>3.071998</td>\n",
       "      <td>2.366836</td>\n",
       "      <td>3.064790</td>\n",
       "      <td>2.162729</td>\n",
       "      <td>3.858167</td>\n",
       "      <td>3.375930</td>\n",
       "    </tr>\n",
       "    <tr>\n",
       "      <th>std</th>\n",
       "      <td>1.948867</td>\n",
       "      <td>0.947163</td>\n",
       "      <td>0.982113</td>\n",
       "      <td>1.185953</td>\n",
       "      <td>0.992875</td>\n",
       "      <td>0.865389</td>\n",
       "      <td>1.113546</td>\n",
       "      <td>0.999267</td>\n",
       "      <td>0.921048</td>\n",
       "      <td>1.128431</td>\n",
       "      <td>1.081546</td>\n",
       "      <td>1.007973</td>\n",
       "      <td>1.452504</td>\n",
       "    </tr>\n",
       "    <tr>\n",
       "      <th>min</th>\n",
       "      <td>1.000000</td>\n",
       "      <td>1.000000</td>\n",
       "      <td>1.000000</td>\n",
       "      <td>1.000000</td>\n",
       "      <td>1.000000</td>\n",
       "      <td>1.000000</td>\n",
       "      <td>1.000000</td>\n",
       "      <td>1.000000</td>\n",
       "      <td>1.000000</td>\n",
       "      <td>1.000000</td>\n",
       "      <td>1.000000</td>\n",
       "      <td>1.000000</td>\n",
       "      <td>1.000000</td>\n",
       "    </tr>\n",
       "    <tr>\n",
       "      <th>25%</th>\n",
       "      <td>5.000000</td>\n",
       "      <td>1.000000</td>\n",
       "      <td>3.000000</td>\n",
       "      <td>2.000000</td>\n",
       "      <td>2.000000</td>\n",
       "      <td>2.000000</td>\n",
       "      <td>2.000000</td>\n",
       "      <td>2.000000</td>\n",
       "      <td>2.000000</td>\n",
       "      <td>2.000000</td>\n",
       "      <td>1.000000</td>\n",
       "      <td>3.000000</td>\n",
       "      <td>2.000000</td>\n",
       "    </tr>\n",
       "    <tr>\n",
       "      <th>50%</th>\n",
       "      <td>6.000000</td>\n",
       "      <td>2.000000</td>\n",
       "      <td>4.000000</td>\n",
       "      <td>3.000000</td>\n",
       "      <td>3.000000</td>\n",
       "      <td>2.000000</td>\n",
       "      <td>3.000000</td>\n",
       "      <td>3.000000</td>\n",
       "      <td>2.000000</td>\n",
       "      <td>3.000000</td>\n",
       "      <td>2.000000</td>\n",
       "      <td>4.000000</td>\n",
       "      <td>4.000000</td>\n",
       "    </tr>\n",
       "    <tr>\n",
       "      <th>75%</th>\n",
       "      <td>7.000000</td>\n",
       "      <td>3.000000</td>\n",
       "      <td>4.000000</td>\n",
       "      <td>4.000000</td>\n",
       "      <td>4.000000</td>\n",
       "      <td>3.000000</td>\n",
       "      <td>4.000000</td>\n",
       "      <td>4.000000</td>\n",
       "      <td>3.000000</td>\n",
       "      <td>4.000000</td>\n",
       "      <td>3.000000</td>\n",
       "      <td>5.000000</td>\n",
       "      <td>5.000000</td>\n",
       "    </tr>\n",
       "    <tr>\n",
       "      <th>max</th>\n",
       "      <td>10.000000</td>\n",
       "      <td>5.000000</td>\n",
       "      <td>5.000000</td>\n",
       "      <td>5.000000</td>\n",
       "      <td>5.000000</td>\n",
       "      <td>5.000000</td>\n",
       "      <td>5.000000</td>\n",
       "      <td>5.000000</td>\n",
       "      <td>5.000000</td>\n",
       "      <td>5.000000</td>\n",
       "      <td>5.000000</td>\n",
       "      <td>5.000000</td>\n",
       "      <td>5.000000</td>\n",
       "    </tr>\n",
       "  </tbody>\n",
       "</table>\n",
       "</div>"
      ],
      "text/plain": [
       "         expertise  coffee_a_bitterness  coffee_a_acidity  \\\n",
       "count  3938.000000          3798.000000       3779.000000   \n",
       "mean      5.693499             2.141127          3.634824   \n",
       "std       1.948867             0.947163          0.982113   \n",
       "min       1.000000             1.000000          1.000000   \n",
       "25%       5.000000             1.000000          3.000000   \n",
       "50%       6.000000             2.000000          4.000000   \n",
       "75%       7.000000             3.000000          4.000000   \n",
       "max      10.000000             5.000000          5.000000   \n",
       "\n",
       "       coffee_a_personal_preference  coffee_b_bitterness  coffee_b_acidity  \\\n",
       "count                   3789.000000          3780.000000       3767.000000   \n",
       "mean                       3.310900             3.013228          2.223786   \n",
       "std                        1.185953             0.992875          0.865389   \n",
       "min                        1.000000             1.000000          1.000000   \n",
       "25%                        2.000000             2.000000          2.000000   \n",
       "50%                        3.000000             3.000000          2.000000   \n",
       "75%                        4.000000             4.000000          3.000000   \n",
       "max                        5.000000             5.000000          5.000000   \n",
       "\n",
       "       coffee_b_personal_preference  coffee_c_bitterness  coffee_c_acidity  \\\n",
       "count                   3773.000000          3764.000000       3751.000000   \n",
       "mean                       3.068646             3.071998          2.366836   \n",
       "std                        1.113546             0.999267          0.921048   \n",
       "min                        1.000000             1.000000          1.000000   \n",
       "25%                        2.000000             2.000000          2.000000   \n",
       "50%                        3.000000             3.000000          2.000000   \n",
       "75%                        4.000000             4.000000          3.000000   \n",
       "max                        5.000000             5.000000          5.000000   \n",
       "\n",
       "       coffee_c_personal_preference  coffee_d_bitterness  coffee_d_acidity  \\\n",
       "count                   3766.000000          3767.000000       3765.000000   \n",
       "mean                       3.064790             2.162729          3.858167   \n",
       "std                        1.128431             1.081546          1.007973   \n",
       "min                        1.000000             1.000000          1.000000   \n",
       "25%                        2.000000             1.000000          3.000000   \n",
       "50%                        3.000000             2.000000          4.000000   \n",
       "75%                        4.000000             3.000000          5.000000   \n",
       "max                        5.000000             5.000000          5.000000   \n",
       "\n",
       "       coffee_d_personal_preference  \n",
       "count                   3764.000000  \n",
       "mean                       3.375930  \n",
       "std                        1.452504  \n",
       "min                        1.000000  \n",
       "25%                        2.000000  \n",
       "50%                        4.000000  \n",
       "75%                        5.000000  \n",
       "max                        5.000000  "
      ]
     },
     "execution_count": 68,
     "metadata": {},
     "output_type": "execute_result"
    }
   ],
   "source": [
    "data.describe()"
   ]
  },
  {
   "cell_type": "code",
   "execution_count": 69,
   "metadata": {},
   "outputs": [
    {
     "data": {
      "text/plain": [
       "submission_id                      0\n",
       "age                               31\n",
       "cups                              93\n",
       "where_drink                       70\n",
       "brew                             385\n",
       "brew_other                      3364\n",
       "purchase                        3332\n",
       "purchase_other                  4011\n",
       "favorite                          62\n",
       "favorite_specify                3928\n",
       "additions                         83\n",
       "additions_other                 3994\n",
       "dairy                           2356\n",
       "sweetener                       3530\n",
       "style                             84\n",
       "strength                         126\n",
       "roast_level                      102\n",
       "caffeine                         125\n",
       "expertise                        104\n",
       "coffee_a_bitterness              244\n",
       "coffee_a_acidity                 263\n",
       "coffee_a_personal_preference     253\n",
       "coffee_a_notes                  1464\n",
       "coffee_b_bitterness              262\n",
       "coffee_b_acidity                 275\n",
       "coffee_b_personal_preference     269\n",
       "coffee_b_notes                  1588\n",
       "coffee_c_bitterness              278\n",
       "coffee_c_acidity                 291\n",
       "coffee_c_personal_preference     276\n",
       "coffee_c_notes                  1660\n",
       "coffee_d_bitterness              275\n",
       "coffee_d_acidity                 277\n",
       "coffee_d_personal_preference     278\n",
       "coffee_d_notes                  1454\n",
       "prefer_abc                       270\n",
       "prefer_ad                        281\n",
       "prefer_overall                   272\n",
       "wfh                              518\n",
       "total_spend                      531\n",
       "why_drink                        474\n",
       "why_drink_other                 3875\n",
       "taste                            479\n",
       "know_source                      483\n",
       "most_paid                        515\n",
       "most_willing                     532\n",
       "value_cafe                       542\n",
       "spent_equipment                  536\n",
       "value_equipment                  548\n",
       "gender                           519\n",
       "gender_specify                  4030\n",
       "education_level                  604\n",
       "ethnicity_race                   624\n",
       "ethnicity_race_specify          3937\n",
       "employment_status                623\n",
       "number_children                 3186\n",
       "political_affiliation            753\n",
       "dtype: int64"
      ]
     },
     "execution_count": 69,
     "metadata": {},
     "output_type": "execute_result"
    }
   ],
   "source": [
    "dados_nulos = data.isna().sum()\n",
    "dados_nulos\n",
    "# Lembrando que temos 4042 rows × 57 column"
   ]
  },
  {
   "cell_type": "code",
   "execution_count": 70,
   "metadata": {},
   "outputs": [
    {
     "data": {
      "text/plain": [
       "0"
      ]
     },
     "execution_count": 70,
     "metadata": {},
     "output_type": "execute_result"
    }
   ],
   "source": [
    "data.duplicated().sum()"
   ]
  },
  {
   "cell_type": "markdown",
   "metadata": {},
   "source": [
    "### Fazendo a limpeza e tratamento da base de dados"
   ]
  },
  {
   "cell_type": "markdown",
   "metadata": {},
   "source": [
    "Retirando dados com muitos valores nulos e dados que não são pertinentes para essa análise"
   ]
  },
  {
   "cell_type": "code",
   "execution_count": 71,
   "metadata": {},
   "outputs": [],
   "source": [
    "new_data = data.drop(['number_children', 'ethnicity_race_specify', 'gender_specify', \n",
    "                      'why_drink_other', 'sweetener', 'additions_other', 'favorite_specify',\n",
    "                      'purchase_other', 'purchase', 'brew_other', 'political_affiliation', \n",
    "                      'spent_equipment', 'value_equipment', 'wfh', 'submission_id', \n",
    "                      'education_level', 'employment_status' ] , axis = 1)"
   ]
  },
  {
   "cell_type": "markdown",
   "metadata": {},
   "source": [
    "Fazendo o split para separar algumas respotas com mesmo padrão "
   ]
  },
  {
   "cell_type": "code",
   "execution_count": 72,
   "metadata": {},
   "outputs": [],
   "source": [
    "new_data['dairy'] = new_data['dairy'].str.split(',')\n",
    "\n",
    "new_data['brew'] = new_data['brew'].str.split(',')\n",
    "\n",
    "new_data['additions'] = new_data['additions'].str.split(',')\n",
    "\n",
    "new_data['why_drink'] = new_data['why_drink'].str.split(',')\n",
    "\n",
    "new_data['where_drink'] = new_data['where_drink'].str.split(',')"
   ]
  },
  {
   "cell_type": "markdown",
   "metadata": {},
   "source": [
    "Arrumando algumas strings"
   ]
  },
  {
   "cell_type": "code",
   "execution_count": 73,
   "metadata": {},
   "outputs": [],
   "source": [
    "new_data['age'] = new_data['age'].str.replace(' years old', '')\n",
    "new_data['age'] = new_data['age'].str.replace('-', ' a ')\n",
    "\n",
    "new_data['most_paid'] = new_data['most_paid'].str.replace('$', '')\n",
    "new_data['most_paid'] = new_data['most_paid'].str.replace('-', ' a ')\n",
    "\n",
    "new_data['most_willing'] = new_data['most_willing'].str.replace('$', '')\n",
    "new_data['most_willing'] = new_data['most_willing'].str.replace('-', ' a ')\n",
    "\n",
    "new_data['total_spend'] = new_data['total_spend'].str.replace('$', '')\n",
    "new_data['total_spend'] = new_data['total_spend'].str.replace('-', ' a ')\n",
    "new_data['total_spend'] = new_data['total_spend'].str.replace('<', 'Less then ')\n",
    "new_data['total_spend'] = new_data['total_spend'].str.replace('>', 'More then ')\n",
    "\n",
    "new_data['coffee_b_notes'] = new_data['coffee_b_notes'].str.replace('?', '')"
   ]
  },
  {
   "cell_type": "code",
   "execution_count": 74,
   "metadata": {},
   "outputs": [],
   "source": [
    "# arrumar 'coffee_notes' de a, b, c e d"
   ]
  },
  {
   "cell_type": "markdown",
   "metadata": {},
   "source": [
    "Renomeando algumas colunas "
   ]
  },
  {
   "cell_type": "code",
   "execution_count": 75,
   "metadata": {},
   "outputs": [],
   "source": [
    "new_data.rename(columns={'most_willing' : 'most_willing_to_pay'}, inplace = True)"
   ]
  },
  {
   "cell_type": "code",
   "execution_count": 76,
   "metadata": {},
   "outputs": [
    {
     "data": {
      "text/html": [
       "<div>\n",
       "<style scoped>\n",
       "    .dataframe tbody tr th:only-of-type {\n",
       "        vertical-align: middle;\n",
       "    }\n",
       "\n",
       "    .dataframe tbody tr th {\n",
       "        vertical-align: top;\n",
       "    }\n",
       "\n",
       "    .dataframe thead th {\n",
       "        text-align: right;\n",
       "    }\n",
       "</style>\n",
       "<table border=\"1\" class=\"dataframe\">\n",
       "  <thead>\n",
       "    <tr style=\"text-align: right;\">\n",
       "      <th></th>\n",
       "      <th>age</th>\n",
       "      <th>cups</th>\n",
       "      <th>where_drink</th>\n",
       "      <th>brew</th>\n",
       "      <th>favorite</th>\n",
       "      <th>additions</th>\n",
       "      <th>dairy</th>\n",
       "      <th>style</th>\n",
       "      <th>strength</th>\n",
       "      <th>roast_level</th>\n",
       "      <th>...</th>\n",
       "      <th>prefer_overall</th>\n",
       "      <th>total_spend</th>\n",
       "      <th>why_drink</th>\n",
       "      <th>taste</th>\n",
       "      <th>know_source</th>\n",
       "      <th>most_paid</th>\n",
       "      <th>most_willing_to_pay</th>\n",
       "      <th>value_cafe</th>\n",
       "      <th>gender</th>\n",
       "      <th>ethnicity_race</th>\n",
       "    </tr>\n",
       "  </thead>\n",
       "  <tbody>\n",
       "    <tr>\n",
       "      <th>0</th>\n",
       "      <td>18 a 24</td>\n",
       "      <td>NaN</td>\n",
       "      <td>NaN</td>\n",
       "      <td>NaN</td>\n",
       "      <td>Regular drip coffee</td>\n",
       "      <td>[No - just black]</td>\n",
       "      <td>NaN</td>\n",
       "      <td>Complex</td>\n",
       "      <td>NaN</td>\n",
       "      <td>NaN</td>\n",
       "      <td>...</td>\n",
       "      <td>NaN</td>\n",
       "      <td>NaN</td>\n",
       "      <td>NaN</td>\n",
       "      <td>NaN</td>\n",
       "      <td>NaN</td>\n",
       "      <td>NaN</td>\n",
       "      <td>NaN</td>\n",
       "      <td>NaN</td>\n",
       "      <td>NaN</td>\n",
       "      <td>NaN</td>\n",
       "    </tr>\n",
       "    <tr>\n",
       "      <th>1</th>\n",
       "      <td>25 a 34</td>\n",
       "      <td>NaN</td>\n",
       "      <td>NaN</td>\n",
       "      <td>[Pod/capsule machine (e.g. Keurig/Nespresso)]</td>\n",
       "      <td>Iced coffee</td>\n",
       "      <td>[Sugar or sweetener,  No - just black]</td>\n",
       "      <td>NaN</td>\n",
       "      <td>Light</td>\n",
       "      <td>NaN</td>\n",
       "      <td>NaN</td>\n",
       "      <td>...</td>\n",
       "      <td>NaN</td>\n",
       "      <td>NaN</td>\n",
       "      <td>NaN</td>\n",
       "      <td>NaN</td>\n",
       "      <td>NaN</td>\n",
       "      <td>NaN</td>\n",
       "      <td>NaN</td>\n",
       "      <td>NaN</td>\n",
       "      <td>NaN</td>\n",
       "      <td>NaN</td>\n",
       "    </tr>\n",
       "    <tr>\n",
       "      <th>2</th>\n",
       "      <td>25 a 34</td>\n",
       "      <td>NaN</td>\n",
       "      <td>NaN</td>\n",
       "      <td>[Bean-to-cup machine]</td>\n",
       "      <td>Regular drip coffee</td>\n",
       "      <td>[No - just black]</td>\n",
       "      <td>NaN</td>\n",
       "      <td>Complex</td>\n",
       "      <td>NaN</td>\n",
       "      <td>NaN</td>\n",
       "      <td>...</td>\n",
       "      <td>NaN</td>\n",
       "      <td>NaN</td>\n",
       "      <td>NaN</td>\n",
       "      <td>NaN</td>\n",
       "      <td>NaN</td>\n",
       "      <td>NaN</td>\n",
       "      <td>NaN</td>\n",
       "      <td>NaN</td>\n",
       "      <td>NaN</td>\n",
       "      <td>NaN</td>\n",
       "    </tr>\n",
       "    <tr>\n",
       "      <th>3</th>\n",
       "      <td>35 a 44</td>\n",
       "      <td>NaN</td>\n",
       "      <td>NaN</td>\n",
       "      <td>[Coffee brewing machine (e.g. Mr. Coffee)]</td>\n",
       "      <td>Iced coffee</td>\n",
       "      <td>[No - just black,  Cinnamon]</td>\n",
       "      <td>NaN</td>\n",
       "      <td>Complex</td>\n",
       "      <td>NaN</td>\n",
       "      <td>NaN</td>\n",
       "      <td>...</td>\n",
       "      <td>NaN</td>\n",
       "      <td>NaN</td>\n",
       "      <td>NaN</td>\n",
       "      <td>NaN</td>\n",
       "      <td>NaN</td>\n",
       "      <td>NaN</td>\n",
       "      <td>NaN</td>\n",
       "      <td>NaN</td>\n",
       "      <td>NaN</td>\n",
       "      <td>NaN</td>\n",
       "    </tr>\n",
       "    <tr>\n",
       "      <th>4</th>\n",
       "      <td>25 a 34</td>\n",
       "      <td>NaN</td>\n",
       "      <td>NaN</td>\n",
       "      <td>[Pour over]</td>\n",
       "      <td>Latte</td>\n",
       "      <td>[No - just black]</td>\n",
       "      <td>NaN</td>\n",
       "      <td>Sweet</td>\n",
       "      <td>NaN</td>\n",
       "      <td>NaN</td>\n",
       "      <td>...</td>\n",
       "      <td>NaN</td>\n",
       "      <td>NaN</td>\n",
       "      <td>NaN</td>\n",
       "      <td>NaN</td>\n",
       "      <td>NaN</td>\n",
       "      <td>NaN</td>\n",
       "      <td>NaN</td>\n",
       "      <td>NaN</td>\n",
       "      <td>NaN</td>\n",
       "      <td>NaN</td>\n",
       "    </tr>\n",
       "    <tr>\n",
       "      <th>...</th>\n",
       "      <td>...</td>\n",
       "      <td>...</td>\n",
       "      <td>...</td>\n",
       "      <td>...</td>\n",
       "      <td>...</td>\n",
       "      <td>...</td>\n",
       "      <td>...</td>\n",
       "      <td>...</td>\n",
       "      <td>...</td>\n",
       "      <td>...</td>\n",
       "      <td>...</td>\n",
       "      <td>...</td>\n",
       "      <td>...</td>\n",
       "      <td>...</td>\n",
       "      <td>...</td>\n",
       "      <td>...</td>\n",
       "      <td>...</td>\n",
       "      <td>...</td>\n",
       "      <td>...</td>\n",
       "      <td>...</td>\n",
       "      <td>...</td>\n",
       "    </tr>\n",
       "    <tr>\n",
       "      <th>4037</th>\n",
       "      <td>&gt;65</td>\n",
       "      <td>2</td>\n",
       "      <td>[At home]</td>\n",
       "      <td>[Coffee brewing machine (e.g. Mr. Coffee)]</td>\n",
       "      <td>Regular drip coffee</td>\n",
       "      <td>[Milk,  dairy alternative,  or coffee creamer,...</td>\n",
       "      <td>[Skim milk]</td>\n",
       "      <td>Chocolatey</td>\n",
       "      <td>Medium</td>\n",
       "      <td>Medium</td>\n",
       "      <td>...</td>\n",
       "      <td>Coffee A</td>\n",
       "      <td>20 a 40</td>\n",
       "      <td>[It tastes good]</td>\n",
       "      <td>Yes</td>\n",
       "      <td>No</td>\n",
       "      <td>6 a 8</td>\n",
       "      <td>4 a 6</td>\n",
       "      <td>No</td>\n",
       "      <td>Female</td>\n",
       "      <td>White/Caucasian</td>\n",
       "    </tr>\n",
       "    <tr>\n",
       "      <th>4038</th>\n",
       "      <td>&gt;65</td>\n",
       "      <td>2</td>\n",
       "      <td>[At home]</td>\n",
       "      <td>[Coffee brewing machine (e.g. Mr. Coffee)]</td>\n",
       "      <td>Regular drip coffee</td>\n",
       "      <td>[Milk,  dairy alternative,  or coffee creamer]</td>\n",
       "      <td>[Skim milk]</td>\n",
       "      <td>Nutty</td>\n",
       "      <td>Medium</td>\n",
       "      <td>Light</td>\n",
       "      <td>...</td>\n",
       "      <td>Coffee A</td>\n",
       "      <td>20 a 40</td>\n",
       "      <td>[I need the caffeine]</td>\n",
       "      <td>Yes</td>\n",
       "      <td>No</td>\n",
       "      <td>4 a 6</td>\n",
       "      <td>2 a 4</td>\n",
       "      <td>No</td>\n",
       "      <td>Male</td>\n",
       "      <td>White/Caucasian</td>\n",
       "    </tr>\n",
       "    <tr>\n",
       "      <th>4039</th>\n",
       "      <td>18 a 24</td>\n",
       "      <td>1</td>\n",
       "      <td>[At a cafe,  At home,  On the go,  At the office]</td>\n",
       "      <td>[Espresso,  Pod/capsule machine (e.g. Keurig/N...</td>\n",
       "      <td>Latte</td>\n",
       "      <td>[No - just black,  Milk,  dairy alternative,  ...</td>\n",
       "      <td>[Oat milk,  Coffee creamer,  Flavored coffee c...</td>\n",
       "      <td>Sweet</td>\n",
       "      <td>Somewhat strong</td>\n",
       "      <td>Light</td>\n",
       "      <td>...</td>\n",
       "      <td>Coffee C</td>\n",
       "      <td>40 a 60</td>\n",
       "      <td>[It tastes good,  I need the ritual,  It makes...</td>\n",
       "      <td>Yes</td>\n",
       "      <td>Yes</td>\n",
       "      <td>8 a 10</td>\n",
       "      <td>More than 20</td>\n",
       "      <td>Yes</td>\n",
       "      <td>Male</td>\n",
       "      <td>White/Caucasian</td>\n",
       "    </tr>\n",
       "    <tr>\n",
       "      <th>4040</th>\n",
       "      <td>25 a 34</td>\n",
       "      <td>2</td>\n",
       "      <td>[At home]</td>\n",
       "      <td>[Pour over]</td>\n",
       "      <td>Iced coffee</td>\n",
       "      <td>[Milk,  dairy alternative,  or coffee creamer]</td>\n",
       "      <td>[Whole milk]</td>\n",
       "      <td>Nutty</td>\n",
       "      <td>Somewhat strong</td>\n",
       "      <td>Medium</td>\n",
       "      <td>...</td>\n",
       "      <td>Coffee A</td>\n",
       "      <td>20 a 40</td>\n",
       "      <td>[I need the caffeine,  It tastes good,  I need...</td>\n",
       "      <td>Yes</td>\n",
       "      <td>Yes</td>\n",
       "      <td>4 a 6</td>\n",
       "      <td>8 a 10</td>\n",
       "      <td>Yes</td>\n",
       "      <td>Male</td>\n",
       "      <td>White/Caucasian</td>\n",
       "    </tr>\n",
       "    <tr>\n",
       "      <th>4041</th>\n",
       "      <td>25 a 34</td>\n",
       "      <td>1</td>\n",
       "      <td>[At home]</td>\n",
       "      <td>[Pour over,  French press,  Espresso,  Other]</td>\n",
       "      <td>Latte</td>\n",
       "      <td>[Milk,  dairy alternative,  or coffee creamer,...</td>\n",
       "      <td>[Whole milk]</td>\n",
       "      <td>Chocolatey</td>\n",
       "      <td>Medium</td>\n",
       "      <td>Medium</td>\n",
       "      <td>...</td>\n",
       "      <td>Coffee A</td>\n",
       "      <td>20 a 40</td>\n",
       "      <td>[It tastes good,  I need the caffeine,  I need...</td>\n",
       "      <td>Yes</td>\n",
       "      <td>Yes</td>\n",
       "      <td>15 a 20</td>\n",
       "      <td>15 a 20</td>\n",
       "      <td>Yes</td>\n",
       "      <td>Female</td>\n",
       "      <td>White/Caucasian</td>\n",
       "    </tr>\n",
       "  </tbody>\n",
       "</table>\n",
       "<p>4042 rows × 40 columns</p>\n",
       "</div>"
      ],
      "text/plain": [
       "          age cups                                        where_drink  \\\n",
       "0     18 a 24  NaN                                                NaN   \n",
       "1     25 a 34  NaN                                                NaN   \n",
       "2     25 a 34  NaN                                                NaN   \n",
       "3     35 a 44  NaN                                                NaN   \n",
       "4     25 a 34  NaN                                                NaN   \n",
       "...       ...  ...                                                ...   \n",
       "4037      >65    2                                          [At home]   \n",
       "4038      >65    2                                          [At home]   \n",
       "4039  18 a 24    1  [At a cafe,  At home,  On the go,  At the office]   \n",
       "4040  25 a 34    2                                          [At home]   \n",
       "4041  25 a 34    1                                          [At home]   \n",
       "\n",
       "                                                   brew             favorite  \\\n",
       "0                                                   NaN  Regular drip coffee   \n",
       "1         [Pod/capsule machine (e.g. Keurig/Nespresso)]          Iced coffee   \n",
       "2                                 [Bean-to-cup machine]  Regular drip coffee   \n",
       "3            [Coffee brewing machine (e.g. Mr. Coffee)]          Iced coffee   \n",
       "4                                           [Pour over]                Latte   \n",
       "...                                                 ...                  ...   \n",
       "4037         [Coffee brewing machine (e.g. Mr. Coffee)]  Regular drip coffee   \n",
       "4038         [Coffee brewing machine (e.g. Mr. Coffee)]  Regular drip coffee   \n",
       "4039  [Espresso,  Pod/capsule machine (e.g. Keurig/N...                Latte   \n",
       "4040                                        [Pour over]          Iced coffee   \n",
       "4041      [Pour over,  French press,  Espresso,  Other]                Latte   \n",
       "\n",
       "                                              additions  \\\n",
       "0                                     [No - just black]   \n",
       "1                [Sugar or sweetener,  No - just black]   \n",
       "2                                     [No - just black]   \n",
       "3                          [No - just black,  Cinnamon]   \n",
       "4                                     [No - just black]   \n",
       "...                                                 ...   \n",
       "4037  [Milk,  dairy alternative,  or coffee creamer,...   \n",
       "4038     [Milk,  dairy alternative,  or coffee creamer]   \n",
       "4039  [No - just black,  Milk,  dairy alternative,  ...   \n",
       "4040     [Milk,  dairy alternative,  or coffee creamer]   \n",
       "4041  [Milk,  dairy alternative,  or coffee creamer,...   \n",
       "\n",
       "                                                  dairy       style  \\\n",
       "0                                                   NaN     Complex   \n",
       "1                                                   NaN       Light   \n",
       "2                                                   NaN     Complex   \n",
       "3                                                   NaN     Complex   \n",
       "4                                                   NaN       Sweet   \n",
       "...                                                 ...         ...   \n",
       "4037                                        [Skim milk]  Chocolatey   \n",
       "4038                                        [Skim milk]       Nutty   \n",
       "4039  [Oat milk,  Coffee creamer,  Flavored coffee c...       Sweet   \n",
       "4040                                       [Whole milk]       Nutty   \n",
       "4041                                       [Whole milk]  Chocolatey   \n",
       "\n",
       "             strength roast_level  ... prefer_overall  total_spend  \\\n",
       "0                 NaN         NaN  ...            NaN          NaN   \n",
       "1                 NaN         NaN  ...            NaN          NaN   \n",
       "2                 NaN         NaN  ...            NaN          NaN   \n",
       "3                 NaN         NaN  ...            NaN          NaN   \n",
       "4                 NaN         NaN  ...            NaN          NaN   \n",
       "...               ...         ...  ...            ...          ...   \n",
       "4037           Medium      Medium  ...       Coffee A      20 a 40   \n",
       "4038           Medium       Light  ...       Coffee A      20 a 40   \n",
       "4039  Somewhat strong       Light  ...       Coffee C      40 a 60   \n",
       "4040  Somewhat strong      Medium  ...       Coffee A      20 a 40   \n",
       "4041           Medium      Medium  ...       Coffee A      20 a 40   \n",
       "\n",
       "                                              why_drink  taste  know_source  \\\n",
       "0                                                   NaN    NaN          NaN   \n",
       "1                                                   NaN    NaN          NaN   \n",
       "2                                                   NaN    NaN          NaN   \n",
       "3                                                   NaN    NaN          NaN   \n",
       "4                                                   NaN    NaN          NaN   \n",
       "...                                                 ...    ...          ...   \n",
       "4037                                   [It tastes good]    Yes           No   \n",
       "4038                              [I need the caffeine]    Yes           No   \n",
       "4039  [It tastes good,  I need the ritual,  It makes...    Yes          Yes   \n",
       "4040  [I need the caffeine,  It tastes good,  I need...    Yes          Yes   \n",
       "4041  [It tastes good,  I need the caffeine,  I need...    Yes          Yes   \n",
       "\n",
       "     most_paid  most_willing_to_pay  value_cafe  gender   ethnicity_race  \n",
       "0          NaN                  NaN         NaN     NaN              NaN  \n",
       "1          NaN                  NaN         NaN     NaN              NaN  \n",
       "2          NaN                  NaN         NaN     NaN              NaN  \n",
       "3          NaN                  NaN         NaN     NaN              NaN  \n",
       "4          NaN                  NaN         NaN     NaN              NaN  \n",
       "...        ...                  ...         ...     ...              ...  \n",
       "4037     6 a 8                4 a 6          No  Female  White/Caucasian  \n",
       "4038     4 a 6                2 a 4          No    Male  White/Caucasian  \n",
       "4039    8 a 10         More than 20         Yes    Male  White/Caucasian  \n",
       "4040     4 a 6               8 a 10         Yes    Male  White/Caucasian  \n",
       "4041   15 a 20              15 a 20         Yes  Female  White/Caucasian  \n",
       "\n",
       "[4042 rows x 40 columns]"
      ]
     },
     "execution_count": 76,
     "metadata": {},
     "output_type": "execute_result"
    }
   ],
   "source": [
    "new_data"
   ]
  },
  {
   "cell_type": "code",
   "execution_count": 77,
   "metadata": {},
   "outputs": [
    {
     "name": "stdout",
     "output_type": "stream",
     "text": [
      "<class 'pandas.core.frame.DataFrame'>\n",
      "RangeIndex: 4042 entries, 0 to 4041\n",
      "Data columns (total 40 columns):\n",
      " #   Column                        Non-Null Count  Dtype  \n",
      "---  ------                        --------------  -----  \n",
      " 0   age                           4011 non-null   object \n",
      " 1   cups                          3949 non-null   object \n",
      " 2   where_drink                   3972 non-null   object \n",
      " 3   brew                          3657 non-null   object \n",
      " 4   favorite                      3980 non-null   object \n",
      " 5   additions                     3959 non-null   object \n",
      " 6   dairy                         1686 non-null   object \n",
      " 7   style                         3958 non-null   object \n",
      " 8   strength                      3916 non-null   object \n",
      " 9   roast_level                   3940 non-null   object \n",
      " 10  caffeine                      3917 non-null   object \n",
      " 11  expertise                     3938 non-null   float64\n",
      " 12  coffee_a_bitterness           3798 non-null   float64\n",
      " 13  coffee_a_acidity              3779 non-null   float64\n",
      " 14  coffee_a_personal_preference  3789 non-null   float64\n",
      " 15  coffee_a_notes                2578 non-null   object \n",
      " 16  coffee_b_bitterness           3780 non-null   float64\n",
      " 17  coffee_b_acidity              3767 non-null   float64\n",
      " 18  coffee_b_personal_preference  3773 non-null   float64\n",
      " 19  coffee_b_notes                2454 non-null   object \n",
      " 20  coffee_c_bitterness           3764 non-null   float64\n",
      " 21  coffee_c_acidity              3751 non-null   float64\n",
      " 22  coffee_c_personal_preference  3766 non-null   float64\n",
      " 23  coffee_c_notes                2382 non-null   object \n",
      " 24  coffee_d_bitterness           3767 non-null   float64\n",
      " 25  coffee_d_acidity              3765 non-null   float64\n",
      " 26  coffee_d_personal_preference  3764 non-null   float64\n",
      " 27  coffee_d_notes                2588 non-null   object \n",
      " 28  prefer_abc                    3772 non-null   object \n",
      " 29  prefer_ad                     3761 non-null   object \n",
      " 30  prefer_overall                3770 non-null   object \n",
      " 31  total_spend                   3511 non-null   object \n",
      " 32  why_drink                     3568 non-null   object \n",
      " 33  taste                         3563 non-null   object \n",
      " 34  know_source                   3559 non-null   object \n",
      " 35  most_paid                     3527 non-null   object \n",
      " 36  most_willing_to_pay           3510 non-null   object \n",
      " 37  value_cafe                    3500 non-null   object \n",
      " 38  gender                        3523 non-null   object \n",
      " 39  ethnicity_race                3418 non-null   object \n",
      "dtypes: float64(13), object(27)\n",
      "memory usage: 1.2+ MB\n"
     ]
    }
   ],
   "source": [
    "new_data.info()"
   ]
  },
  {
   "cell_type": "markdown",
   "metadata": {},
   "source": [
    "Definindo funções para corrigir colunas numéricas com dados em branco"
   ]
  },
  {
   "cell_type": "code",
   "execution_count": 78,
   "metadata": {},
   "outputs": [],
   "source": [
    "def m_me_dp(coluna):\n",
    "    print('Media: ', coluna.mean())\n",
    "    print('Mediana: ', coluna.median())\n",
    "    print('Desvio Padrão: ', coluna.std())"
   ]
  },
  {
   "cell_type": "code",
   "execution_count": 79,
   "metadata": {},
   "outputs": [],
   "source": [
    "def grafico_box(coluna, valor):\n",
    "    coluna = coluna.fillna(valor)\n",
    "    bx = []\n",
    "\n",
    "    for line in coluna:\n",
    "        if line != None:\n",
    "            bx.append(line)\n",
    "    plt.boxplot(bx)\n",
    "    plt.title('Dados da coluna expertise')\n",
    "    plt.ylabel('Values')\n",
    "\n",
    "    print('Media: ', coluna.mean())\n",
    "    print('Mediana: ', coluna.median())\n",
    "    print('Desvio Padrão: ', coluna.std())"
   ]
  },
  {
   "cell_type": "markdown",
   "metadata": {},
   "source": [
    "Analisando os dados da coluna Expertise e procurando os melhores valores de preenchimento"
   ]
  },
  {
   "cell_type": "code",
   "execution_count": 80,
   "metadata": {},
   "outputs": [
    {
     "name": "stdout",
     "output_type": "stream",
     "text": [
      "Media:  5.693499238191976\n",
      "Mediana:  6.0\n",
      "Desvio Padrão:  1.948867159560351\n"
     ]
    }
   ],
   "source": [
    "m_me_dp(new_data['expertise'])"
   ]
  },
  {
   "cell_type": "code",
   "execution_count": 81,
   "metadata": {},
   "outputs": [
    {
     "name": "stdout",
     "output_type": "stream",
     "text": [
      "Media:  5.701385452746165\n",
      "Mediana:  6.0\n",
      "Desvio Padrão:  1.9242376368100338\n"
     ]
    },
    {
     "data": {
      "image/png": "[encoded data removed]",
      "text/plain": [
       "<Figure size 640x480 with 1 Axes>"
      ]
     },
     "metadata": {},
     "output_type": "display_data"
    }
   ],
   "source": [
    "grafico_box(new_data['expertise'], 6)"
   ]
  },
  {
   "cell_type": "markdown",
   "metadata": {},
   "source": [
    "Analisando os dados da coluna coffee_a_bitterness e procurando os melhores valores de preenchimento"
   ]
  },
  {
   "cell_type": "code",
   "execution_count": 82,
   "metadata": {},
   "outputs": [
    {
     "name": "stdout",
     "output_type": "stream",
     "text": [
      "Media:  2.141126908899421\n",
      "Mediana:  2.0\n",
      "Desvio Padrão:  0.9471629840830711\n"
     ]
    }
   ],
   "source": [
    "m_me_dp(new_data['coffee_a_bitterness'])"
   ]
  },
  {
   "cell_type": "code",
   "execution_count": 83,
   "metadata": {},
   "outputs": [
    {
     "name": "stdout",
     "output_type": "stream",
     "text": [
      "Media:  2.141126908899421\n",
      "Mediana:  2.0\n",
      "Desvio Padrão:  0.9181224152159274\n"
     ]
    },
    {
     "data": {
      "image/png": "[encoded data removed]",
      "text/plain": [
       "<Figure size 640x480 with 1 Axes>"
      ]
     },
     "metadata": {},
     "output_type": "display_data"
    }
   ],
   "source": [
    "grafico_box(new_data['coffee_a_bitterness'], 2.141126908899421)"
   ]
  },
  {
   "cell_type": "markdown",
   "metadata": {},
   "source": [
    "Analisando os dados da coluna coffee_a_acidity e procurando os melhores valores de preenchimento"
   ]
  },
  {
   "cell_type": "code",
   "execution_count": 84,
   "metadata": {},
   "outputs": [
    {
     "name": "stdout",
     "output_type": "stream",
     "text": [
      "Media:  3.634824027520508\n",
      "Mediana:  4.0\n",
      "Desvio Padrão:  0.9821133474860714\n"
     ]
    }
   ],
   "source": [
    "m_me_dp(new_data['coffee_a_acidity'])"
   ]
  },
  {
   "cell_type": "code",
   "execution_count": 85,
   "metadata": {},
   "outputs": [
    {
     "name": "stdout",
     "output_type": "stream",
     "text": [
      "Media:  3.619435315628259\n",
      "Mediana:  4.0\n",
      "Desvio Padrão:  0.9514066918160115\n"
     ]
    },
    {
     "data": {
      "image/png": "[encoded data removed]",
      "text/plain": [
       "<Figure size 640x480 with 1 Axes>"
      ]
     },
     "metadata": {},
     "output_type": "display_data"
    }
   ],
   "source": [
    "grafico_box(new_data['coffee_a_acidity'], 3.3983176645225135)"
   ]
  },
  {
   "cell_type": "markdown",
   "metadata": {},
   "source": [
    "Analisando os dados da coluna coffee_a_personal_preference e procurando os melhores valores de preenchimento"
   ]
  },
  {
   "cell_type": "code",
   "execution_count": 86,
   "metadata": {},
   "outputs": [
    {
     "name": "stdout",
     "output_type": "stream",
     "text": [
      "Media:  3.310899973607812\n",
      "Mediana:  3.0\n",
      "Desvio Padrão:  1.1859526077938127\n"
     ]
    }
   ],
   "source": [
    "m_me_dp(new_data['coffee_a_personal_preference'])"
   ]
  },
  {
   "cell_type": "code",
   "execution_count": 87,
   "metadata": {},
   "outputs": [
    {
     "name": "stdout",
     "output_type": "stream",
     "text": [
      "Media:  3.2914398812469075\n",
      "Mediana:  3.0\n",
      "Desvio Padrão:  1.1506949816651175\n"
     ]
    },
    {
     "data": {
      "image/png": "[encoded data removed]",
      "text/plain": [
       "<Figure size 640x480 with 1 Axes>"
      ]
     },
     "metadata": {},
     "output_type": "display_data"
    }
   ],
   "source": [
    "grafico_box(new_data['coffee_a_personal_preference'], 3)"
   ]
  },
  {
   "cell_type": "markdown",
   "metadata": {},
   "source": [
    "Analisando os dados da coluna coffee_b_bitterness e procurando os melhores valores de preenchimento"
   ]
  },
  {
   "cell_type": "code",
   "execution_count": 88,
   "metadata": {},
   "outputs": [
    {
     "name": "stdout",
     "output_type": "stream",
     "text": [
      "Media:  3.013227513227513\n",
      "Mediana:  3.0\n",
      "Desvio Padrão:  0.9928746709875327\n"
     ]
    }
   ],
   "source": [
    "m_me_dp(new_data['coffee_b_bitterness'])"
   ]
  },
  {
   "cell_type": "code",
   "execution_count": 89,
   "metadata": {},
   "outputs": [
    {
     "name": "stdout",
     "output_type": "stream",
     "text": [
      "Media:  3.0132275132275135\n",
      "Mediana:  3.0\n",
      "Desvio Padrão:  0.96014859862285\n"
     ]
    },
    {
     "data": {
      "image/png": "[encoded data removed]",
      "text/plain": [
       "<Figure size 640x480 with 1 Axes>"
      ]
     },
     "metadata": {},
     "output_type": "display_data"
    }
   ],
   "source": [
    "grafico_box(new_data['coffee_b_bitterness'], 3.013227513227513)"
   ]
  },
  {
   "cell_type": "markdown",
   "metadata": {},
   "source": [
    "Analisando os dados da coluna coffee_b_acidity e procurando os melhores valores de preenchimento"
   ]
  },
  {
   "cell_type": "code",
   "execution_count": 90,
   "metadata": {},
   "outputs": [
    {
     "name": "stdout",
     "output_type": "stream",
     "text": [
      "Media:  2.2237855057074594\n",
      "Mediana:  2.0\n",
      "Desvio Padrão:  0.8653887689197503\n"
     ]
    }
   ],
   "source": [
    "m_me_dp(new_data['coffee_b_acidity'])"
   ]
  },
  {
   "cell_type": "code",
   "execution_count": 91,
   "metadata": {},
   "outputs": [
    {
     "name": "stdout",
     "output_type": "stream",
     "text": [
      "Media:  2.22378550570746\n",
      "Mediana:  2.0\n",
      "Desvio Padrão:  0.8354240764131606\n"
     ]
    },
    {
     "data": {
      "image/png": "[encoded data removed]",
      "text/plain": [
       "<Figure size 640x480 with 1 Axes>"
      ]
     },
     "metadata": {},
     "output_type": "display_data"
    }
   ],
   "source": [
    "grafico_box(new_data['coffee_b_acidity'], 2.2237855057074594)"
   ]
  },
  {
   "cell_type": "markdown",
   "metadata": {},
   "source": [
    "Analisando os dados da coluna coffee_b_personal_preference e procurando os melhores valores de preenchimento"
   ]
  },
  {
   "cell_type": "code",
   "execution_count": 92,
   "metadata": {},
   "outputs": [
    {
     "name": "stdout",
     "output_type": "stream",
     "text": [
      "Media:  3.0686456400742115\n",
      "Mediana:  3.0\n",
      "Desvio Padrão:  1.1135458229904436\n"
     ]
    }
   ],
   "source": [
    "m_me_dp(new_data['coffee_b_personal_preference'])"
   ]
  },
  {
   "cell_type": "code",
   "execution_count": 93,
   "metadata": {},
   "outputs": [
    {
     "name": "stdout",
     "output_type": "stream",
     "text": [
      "Media:  3.0640771895101433\n",
      "Mediana:  3.0\n",
      "Desvio Padrão:  1.0759805881897069\n"
     ]
    },
    {
     "data": {
      "image/png": "[encoded data removed]",
      "text/plain": [
       "<Figure size 640x480 with 1 Axes>"
      ]
     },
     "metadata": {},
     "output_type": "display_data"
    }
   ],
   "source": [
    "grafico_box(new_data['coffee_b_personal_preference'], 3)"
   ]
  },
  {
   "cell_type": "markdown",
   "metadata": {},
   "source": [
    "Analisando os dados da coluna coffee_c_bitterness e procurando os melhores valores de preenchimento"
   ]
  },
  {
   "cell_type": "code",
   "execution_count": 94,
   "metadata": {},
   "outputs": [
    {
     "name": "stdout",
     "output_type": "stream",
     "text": [
      "Media:  3.0719978746014878\n",
      "Mediana:  3.0\n",
      "Desvio Padrão:  0.9992674138249714\n"
     ]
    }
   ],
   "source": [
    "m_me_dp(new_data['coffee_c_bitterness'])"
   ]
  },
  {
   "cell_type": "code",
   "execution_count": 95,
   "metadata": {},
   "outputs": [
    {
     "name": "stdout",
     "output_type": "stream",
     "text": [
      "Media:  3.0719978746014878\n",
      "Mediana:  3.0\n",
      "Desvio Padrão:  0.9642827754182504\n"
     ]
    },
    {
     "data": {
      "image/png": "[encoded data removed]",
      "text/plain": [
       "<Figure size 640x480 with 1 Axes>"
      ]
     },
     "metadata": {},
     "output_type": "display_data"
    }
   ],
   "source": [
    "grafico_box(new_data['coffee_c_bitterness'], 3.0719978746014878)"
   ]
  },
  {
   "cell_type": "markdown",
   "metadata": {},
   "source": [
    "Analisando os dados da coluna coffee_c_acidity e procurando os melhores valores de preenchimento"
   ]
  },
  {
   "cell_type": "code",
   "execution_count": 96,
   "metadata": {},
   "outputs": [
    {
     "name": "stdout",
     "output_type": "stream",
     "text": [
      "Media:  2.366835510530525\n",
      "Mediana:  2.0\n",
      "Desvio Padrão:  0.9210478579690269\n"
     ]
    }
   ],
   "source": [
    "m_me_dp(new_data['coffee_c_acidity'])"
   ]
  },
  {
   "cell_type": "code",
   "execution_count": 97,
   "metadata": {},
   "outputs": [
    {
     "name": "stdout",
     "output_type": "stream",
     "text": [
      "Media:  2.3404255319148937\n",
      "Mediana:  2.0\n",
      "Desvio Padrão:  0.8923184614229193\n"
     ]
    },
    {
     "data": {
      "image/png": "[encoded data removed]",
      "text/plain": [
       "<Figure size 640x480 with 1 Axes>"
      ]
     },
     "metadata": {},
     "output_type": "display_data"
    }
   ],
   "source": [
    "grafico_box(new_data['coffee_c_acidity'], 2)"
   ]
  },
  {
   "cell_type": "markdown",
   "metadata": {},
   "source": [
    "Analisando os dados da coluna coffee_c_personal_preference e procurando os melhores valores de preenchimento"
   ]
  },
  {
   "cell_type": "code",
   "execution_count": 98,
   "metadata": {},
   "outputs": [
    {
     "name": "stdout",
     "output_type": "stream",
     "text": [
      "Media:  3.0647902283590014\n",
      "Mediana:  3.0\n",
      "Desvio Padrão:  1.128431456609444\n"
     ]
    }
   ],
   "source": [
    "m_me_dp(new_data['coffee_c_personal_preference'])"
   ]
  },
  {
   "cell_type": "code",
   "execution_count": 99,
   "metadata": {},
   "outputs": [
    {
     "name": "stdout",
     "output_type": "stream",
     "text": [
      "Media:  3.060366155368629\n",
      "Mediana:  3.0\n",
      "Desvio Padrão:  1.0893367047634892\n"
     ]
    },
    {
     "data": {
      "image/png": "[encoded data removed]",
      "text/plain": [
       "<Figure size 640x480 with 1 Axes>"
      ]
     },
     "metadata": {},
     "output_type": "display_data"
    }
   ],
   "source": [
    "grafico_box(new_data['coffee_c_personal_preference'], 3)"
   ]
  },
  {
   "cell_type": "markdown",
   "metadata": {},
   "source": [
    "Analisando os dados da coluna coffee_d_bitterness e procurando os melhores valores de preenchimento"
   ]
  },
  {
   "cell_type": "code",
   "execution_count": 100,
   "metadata": {},
   "outputs": [
    {
     "name": "stdout",
     "output_type": "stream",
     "text": [
      "Media:  2.1627289620387575\n",
      "Mediana:  2.0\n",
      "Desvio Padrão:  1.0815459650553065\n"
     ]
    }
   ],
   "source": [
    "m_me_dp(new_data['coffee_d_bitterness'])"
   ]
  },
  {
   "cell_type": "code",
   "execution_count": 101,
   "metadata": {},
   "outputs": [
    {
     "name": "stdout",
     "output_type": "stream",
     "text": [
      "Media:  2.151657595249876\n",
      "Mediana:  2.0\n",
      "Desvio Padrão:  1.0449006391682325\n"
     ]
    },
    {
     "data": {
      "image/png": "[encoded data removed]",
      "text/plain": [
       "<Figure size 640x480 with 1 Axes>"
      ]
     },
     "metadata": {},
     "output_type": "display_data"
    }
   ],
   "source": [
    "grafico_box(new_data['coffee_d_bitterness'], 2)"
   ]
  },
  {
   "cell_type": "markdown",
   "metadata": {},
   "source": [
    "Analisando os dados da coluna coffee_d_acidity e procurando os melhores valores de preenchimento"
   ]
  },
  {
   "cell_type": "code",
   "execution_count": 102,
   "metadata": {},
   "outputs": [
    {
     "name": "stdout",
     "output_type": "stream",
     "text": [
      "Media:  3.858167330677291\n",
      "Mediana:  4.0\n",
      "Desvio Padrão:  1.0079731763154907\n"
     ]
    }
   ],
   "source": [
    "m_me_dp(new_data['coffee_d_acidity'])"
   ]
  },
  {
   "cell_type": "code",
   "execution_count": 103,
   "metadata": {},
   "outputs": [
    {
     "name": "stdout",
     "output_type": "stream",
     "text": [
      "Media:  3.858167330677291\n",
      "Mediana:  4.0\n",
      "Desvio Padrão:  0.9728129812082301\n"
     ]
    },
    {
     "data": {
      "image/png": "[encoded data removed]",
      "text/plain": [
       "<Figure size 640x480 with 1 Axes>"
      ]
     },
     "metadata": {},
     "output_type": "display_data"
    }
   ],
   "source": [
    "grafico_box(new_data['coffee_d_acidity'], 3.858167330677291)"
   ]
  },
  {
   "cell_type": "markdown",
   "metadata": {},
   "source": [
    "Analisando os dados da coluna coffee_d_personal_preference e procurando os melhores valores de preenchimento"
   ]
  },
  {
   "cell_type": "code",
   "execution_count": 104,
   "metadata": {},
   "outputs": [
    {
     "name": "stdout",
     "output_type": "stream",
     "text": [
      "Media:  3.3759298618490967\n",
      "Mediana:  4.0\n",
      "Desvio Padrão:  1.4525042516216193\n"
     ]
    }
   ],
   "source": [
    "m_me_dp(new_data['coffee_d_personal_preference'])"
   ]
  },
  {
   "cell_type": "code",
   "execution_count": 105,
   "metadata": {},
   "outputs": [
    {
     "name": "stdout",
     "output_type": "stream",
     "text": [
      "Media:  3.4188520534388918\n",
      "Mediana:  4.0\n",
      "Desvio Padrão:  1.4105239086906196\n"
     ]
    },
    {
     "data": {
      "image/png": "[encoded data removed]",
      "text/plain": [
       "<Figure size 640x480 with 1 Axes>"
      ]
     },
     "metadata": {},
     "output_type": "display_data"
    }
   ],
   "source": [
    "grafico_box(new_data['coffee_d_personal_preference'], 4)"
   ]
  },
  {
   "cell_type": "markdown",
   "metadata": {},
   "source": [
    "### Data Visualization"
   ]
  },
  {
   "cell_type": "markdown",
   "metadata": {},
   "source": [
    "Declarando algumas variáveis que podem ser úteis"
   ]
  },
  {
   "cell_type": "code",
   "execution_count": 106,
   "metadata": {},
   "outputs": [],
   "source": [
    "participantes = new_data.query('taste == \"Yes\"')\n",
    "nao_participantes = new_data.query('taste == \"No\"')\n",
    "\n",
    "sabem_origem = new_data.query('know_source == \"Yes\"')\n",
    "nao_sabem_origem = new_data.query('know_source == \"No\"')\n",
    "\n",
    "sabem_valor_cafe = new_data.query('value_cafe == \"Yes\"')\n",
    "nao_sabem_valor_cafe = new_data.query('value_cafe == \"No\"')\n",
    "\n",
    "# Qual o sentido da coluna taste?????"
   ]
  }
 ],
 "metadata": {
  "kernelspec": {
   "display_name": "Python 3",
   "language": "python",
   "name": "python3"
  },
  "language_info": {
   "codemirror_mode": {
    "name": "ipython",
    "version": 3
   },
   "file_extension": ".py",
   "mimetype": "text/x-python",
   "name": "python",
   "nbconvert_exporter": "python",
   "pygments_lexer": "ipython3",
   "version": "3.12.2"
  }
 },
 "nbformat": 4,
 "nbformat_minor": 2
}
